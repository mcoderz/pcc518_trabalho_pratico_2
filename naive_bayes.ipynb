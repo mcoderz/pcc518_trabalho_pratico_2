{
 "cells": [
  {
   "cell_type": "code",
   "execution_count": 79,
   "metadata": {},
   "outputs": [],
   "source": [
    "from pyspark.sql import SparkSession\n",
    "\n",
    "from pyspark.ml import Pipeline\n",
    "\n",
    "from pyspark.ml.feature import Tokenizer\n",
    "from pyspark.ml.feature import StopWordsRemover\n",
    "from pyspark.ml.feature import HashingTF,IDF\n",
    "from pyspark.ml.feature import StringIndexer\n",
    "\n",
    "\n",
    "from pyspark.ml.classification import NaiveBayes\n",
    "\n",
    "from pyspark.ml.evaluation import MulticlassClassificationEvaluator\n",
    "#from pyspark.mllib.evaluation import MulticlassMetrics\n",
    "\n",
    "from pyspark.ml.tuning import ParamGridBuilder,CrossValidator\n",
    "\n",
    "import pandas as pd"
   ]
  },
  {
   "cell_type": "markdown",
   "metadata": {},
   "source": [
    "https://spark.apache.org/docs/3.1.2/\n",
    "\n",
    "https://spark.apache.org/docs/3.1.2/api/python/reference/api/pyspark.ml.classification.NaiveBayes.html#naivebayes\n",
    "\n",
    "https://spark.apache.org/docs/3.1.2/api/java/org/apache/spark/ml/classification/NaiveBayes.html\n",
    "\n"
   ]
  },
  {
   "cell_type": "markdown",
   "metadata": {},
   "source": [
    "https://spark.apache.org/docs/3.1.2/api/python/reference/api/pyspark.ml.evaluation.MulticlassClassificationEvaluator.html#multiclassclassificationevaluator\n",
    "\n",
    "\n",
    "https://spark.apache.org/docs/3.1.2/api/java/org/apache/spark/ml/evaluation/MulticlassClassificationEvaluator.html\n",
    "\n",
    "\n"
   ]
  },
  {
   "cell_type": "code",
   "execution_count": 2,
   "metadata": {},
   "outputs": [],
   "source": [
    "os.environ['JAVA_HOME'] = '/opt/jdk' #Mostra aonde está o JDK"
   ]
  },
  {
   "cell_type": "code",
   "execution_count": 3,
   "metadata": {},
   "outputs": [
    {
     "name": "stderr",
     "output_type": "stream",
     "text": [
      "21/10/29 08:06:53 WARN Utils: Your hostname, abner-Lenovo-G40-70 resolves to a loopback address: 127.0.1.1; using 192.168.15.20 instead (on interface wlp2s0)\n",
      "21/10/29 08:06:53 WARN Utils: Set SPARK_LOCAL_IP if you need to bind to another address\n",
      "21/10/29 08:06:57 WARN NativeCodeLoader: Unable to load native-hadoop library for your platform... using builtin-java classes where applicable\n",
      "Using Spark's default log4j profile: org/apache/spark/log4j-defaults.properties\n",
      "Setting default log level to \"WARN\".\n",
      "To adjust logging level use sc.setLogLevel(newLevel). For SparkR, use setLogLevel(newLevel).\n"
     ]
    }
   ],
   "source": [
    "spark = SparkSession.builder.master(\"local[4]\") \\\n",
    "                    .appName('ml-teste') \\\n",
    "                    .getOrCreate()\n",
    "\n",
    "sc=spark.sparkContext"
   ]
  },
  {
   "cell_type": "code",
   "execution_count": 4,
   "metadata": {},
   "outputs": [
    {
     "data": {
      "text/html": [
       "\n",
       "            <div>\n",
       "                <p><b>SparkSession - in-memory</b></p>\n",
       "                \n",
       "        <div>\n",
       "            <p><b>SparkContext</b></p>\n",
       "\n",
       "            <p><a href=\"http://192.168.15.20:4040\">Spark UI</a></p>\n",
       "\n",
       "            <dl>\n",
       "              <dt>Version</dt>\n",
       "                <dd><code>v3.1.2</code></dd>\n",
       "              <dt>Master</dt>\n",
       "                <dd><code>local[4]</code></dd>\n",
       "              <dt>AppName</dt>\n",
       "                <dd><code>ml-teste</code></dd>\n",
       "            </dl>\n",
       "        </div>\n",
       "        \n",
       "            </div>\n",
       "        "
      ],
      "text/plain": [
       "<pyspark.sql.session.SparkSession at 0x7fa83f37cb80>"
      ]
     },
     "execution_count": 4,
     "metadata": {},
     "output_type": "execute_result"
    }
   ],
   "source": [
    "spark"
   ]
  },
  {
   "cell_type": "code",
   "execution_count": 5,
   "metadata": {},
   "outputs": [
    {
     "name": "stderr",
     "output_type": "stream",
     "text": []
    }
   ],
   "source": [
    "caminho_df_test = 'data_test.csv'\n",
    "caminho_df_training = 'data_training.csv'\n",
    "\n",
    "df_test = spark.read.csv(caminho_df_test,header=True)\n",
    "df_training = spark.read.csv(caminho_df_training, header=True)"
   ]
  },
  {
   "cell_type": "code",
   "execution_count": 6,
   "metadata": {},
   "outputs": [],
   "source": [
    "label_stringIdx = StringIndexer(inputCol = \"topico\", outputCol = \"label\")\n",
    "tokenization = Tokenizer(inputCol=\"texto\", outputCol=\"palavras\")\n",
    "remover_stopword = StopWordsRemover(inputCol=\"palavras\", outputCol=\"palavras_filtradas\")\n",
    "hashingTF = HashingTF(inputCol=\"palavras_filtradas\", outputCol=\"tf_features\")\n",
    "idf = IDF(inputCol=\"tf_features\", outputCol=\"tf_idf_features\")"
   ]
  },
  {
   "cell_type": "code",
   "execution_count": null,
   "metadata": {},
   "outputs": [],
   "source": [
    "nb = NaiveBayes(featuresCol='tf_idf_features', labelCol='label', smoothing=1)\n",
    "pipelineNB = Pipeline(stages=[label_stringIdx, tokenization, remover_stopword, hashingTF, idf, nb])\n",
    "\n",
    "nbModel = pipelineNB.fit(df_training) #treina o modelo nb_model"
   ]
  },
  {
   "cell_type": "code",
   "execution_count": 8,
   "metadata": {},
   "outputs": [],
   "source": [
    "nbparamGrid = ParamGridBuilder() \\\n",
    "               .addGrid(nb.smoothing, [0.0, 0.2, 0.4]) \\\n",
    "               .build()"
   ]
  },
  {
   "cell_type": "code",
   "execution_count": 9,
   "metadata": {},
   "outputs": [],
   "source": [
    "nbcv = CrossValidator(estimator = pipelineNB,\n",
    "                      estimatorParamMaps = nbparamGrid,\n",
    "                      evaluator = MulticlassClassificationEvaluator(predictionCol=\"prediction\"),\n",
    "                      numFolds = 3)"
   ]
  },
  {
   "cell_type": "code",
   "execution_count": null,
   "metadata": {},
   "outputs": [],
   "source": [
    "nbcvModel = nbcv.fit(df_training)"
   ]
  },
  {
   "cell_type": "code",
   "execution_count": 11,
   "metadata": {},
   "outputs": [],
   "source": [
    "df_test_nbcvModel = nbcvModel.transform(df_test)"
   ]
  },
  {
   "cell_type": "code",
   "execution_count": 63,
   "metadata": {},
   "outputs": [],
   "source": [
    "df_predictionAndLabels = df_test_nbcvModel.select(['prediction', 'label'])"
   ]
  },
  {
   "cell_type": "code",
   "execution_count": 66,
   "metadata": {},
   "outputs": [
    {
     "name": "stderr",
     "output_type": "stream",
     "text": [
      "21/10/29 10:28:11 WARN DAGScheduler: Broadcasting large task binary with size 22.1 MiB\n"
     ]
    }
   ],
   "source": [
    "labels = df_predictionAndLabels.rdd.map(lambda x: x.label).distinct().collect() # transforma o df para rdd e para poder extrair criar uma lista de labels distintas"
   ]
  },
  {
   "cell_type": "code",
   "execution_count": 30,
   "metadata": {},
   "outputs": [],
   "source": [
    "evaluator = MulticlassClassificationEvaluator(predictionCol='prediction', labelCol='label' )"
   ]
  },
  {
   "cell_type": "code",
   "execution_count": null,
   "metadata": {},
   "outputs": [],
   "source": [
    "vec_fMeasureByLabel = []\n",
    "qtdClasses = 0\n",
    "metric_list=[]\n",
    "\n",
    "for label in sorted(labels):\n",
    "    precisionByLabel = evaluator.evaluate(df_predictionAndLabels, {evaluator.metricName: \"precisionByLabel\", evaluator.metricLabel: label})\n",
    "    recallByLabel = evaluator.evaluate(df_predictionAndLabels, {evaluator.metricName: \"recallByLabel\", evaluator.metricLabel: label})\n",
    "    fMeasureByLabel = evaluator.evaluate(df_predictionAndLabels, {evaluator.metricName: \"fMeasureByLabel\", evaluator.metricLabel: label})\n",
    "    \n",
    "    metric_tuple_one = (label, precisionByLabel, recallByLabel,fMeasureByLabel, None , None)\n",
    "    \n",
    "    metric_list.append(metric_tuple_one)\n",
    "    \n",
    "    vec_fMeasureByLabel.append(fMeasureByLabel)\n",
    "    qtdClasses +=1 \n",
    "\n",
    "accuracy = evaluator.evaluate(df_predictionAndLabels, {evaluator.metricName: \"accuracy\"})\n",
    "macroF1 = (sum(vec_fMeasureByLabel))/qtdClasses\n",
    "\n",
    "metric_tuple_two = (None,None,None,None, accuracy, macroF1)\n",
    "\n",
    "metric_list.append(metric_tuple_two)"
   ]
  },
  {
   "cell_type": "code",
   "execution_count": 83,
   "metadata": {},
   "outputs": [],
   "source": [
    "dt_metrics = pd.DataFrame(metric_list)\n",
    "dt_metrics.columns=(['class', 'precision', 'recall', 'F1', 'accuracy', 'macroF1'])\n",
    "dt_metrics.to_csv('metrics_naive_bayes.csv', index=False)\n"
   ]
  },
  {
   "cell_type": "code",
   "execution_count": null,
   "metadata": {},
   "outputs": [],
   "source": [
    "spark.stop()"
   ]
  }
 ],
 "metadata": {
  "interpreter": {
   "hash": "2f907cd9e5acd71679984a0a8a82a3702c387a74b9b3fdd18bd9eaf613e7331a"
  },
  "kernelspec": {
   "display_name": "Python 3.9.7 64-bit ('ri': conda)",
   "name": "python3"
  },
  "language_info": {
   "codemirror_mode": {
    "name": "ipython",
    "version": 3
   },
   "file_extension": ".py",
   "mimetype": "text/x-python",
   "name": "python",
   "nbconvert_exporter": "python",
   "pygments_lexer": "ipython3",
   "version": "3.9.7"
  },
  "orig_nbformat": 4
 },
 "nbformat": 4,
 "nbformat_minor": 2
}
