{
 "cells": [
  {
   "cell_type": "code",
   "execution_count": 1,
   "metadata": {},
   "outputs": [],
   "source": [
    "from pyspark.sql import SparkSession\n",
    "\n",
    "from pyspark.ml import Pipeline\n",
    "\n",
    "from pyspark.ml.feature import Tokenizer\n",
    "from pyspark.ml.feature import StopWordsRemover\n",
    "from pyspark.ml.feature import HashingTF,IDF\n",
    "from pyspark.ml.feature import StringIndexer\n",
    "\n",
    "\n",
    "from pyspark.ml.classification import NaiveBayes\n",
    "\n",
    "from pyspark.ml.evaluation import MulticlassClassificationEvaluator\n",
    "from pyspark.mllib.evaluation import MulticlassMetrics\n",
    "\n",
    "from pyspark.ml.tuning import ParamGridBuilder,CrossValidator"
   ]
  },
  {
   "cell_type": "code",
   "execution_count": 2,
   "metadata": {},
   "outputs": [],
   "source": [
    "os.environ['JAVA_HOME'] = '/opt/jdk' #Mostra aonde está o JDK"
   ]
  },
  {
   "cell_type": "code",
   "execution_count": 3,
   "metadata": {},
   "outputs": [
    {
     "name": "stderr",
     "output_type": "stream",
     "text": [
      "21/10/28 14:18:18 WARN Utils: Your hostname, abner-Lenovo-G40-70 resolves to a loopback address: 127.0.1.1; using 192.168.15.20 instead (on interface wlp2s0)\n",
      "21/10/28 14:18:18 WARN Utils: Set SPARK_LOCAL_IP if you need to bind to another address\n",
      "21/10/28 14:18:20 WARN NativeCodeLoader: Unable to load native-hadoop library for your platform... using builtin-java classes where applicable\n",
      "Using Spark's default log4j profile: org/apache/spark/log4j-defaults.properties\n",
      "Setting default log level to \"WARN\".\n",
      "To adjust logging level use sc.setLogLevel(newLevel). For SparkR, use setLogLevel(newLevel).\n"
     ]
    }
   ],
   "source": [
    "spark = SparkSession.builder.master(\"local[4]\") \\\n",
    "                    .appName('ml-teste') \\\n",
    "                    .getOrCreate()\n",
    "\n",
    "sc=spark.sparkContext"
   ]
  },
  {
   "cell_type": "code",
   "execution_count": 4,
   "metadata": {},
   "outputs": [
    {
     "data": {
      "text/html": [
       "\n",
       "            <div>\n",
       "                <p><b>SparkSession - in-memory</b></p>\n",
       "                \n",
       "        <div>\n",
       "            <p><b>SparkContext</b></p>\n",
       "\n",
       "            <p><a href=\"http://192.168.15.20:4040\">Spark UI</a></p>\n",
       "\n",
       "            <dl>\n",
       "              <dt>Version</dt>\n",
       "                <dd><code>v3.1.2</code></dd>\n",
       "              <dt>Master</dt>\n",
       "                <dd><code>local[4]</code></dd>\n",
       "              <dt>AppName</dt>\n",
       "                <dd><code>ml-teste</code></dd>\n",
       "            </dl>\n",
       "        </div>\n",
       "        \n",
       "            </div>\n",
       "        "
      ],
      "text/plain": [
       "<pyspark.sql.session.SparkSession at 0x7fdf4b451bb0>"
      ]
     },
     "execution_count": 4,
     "metadata": {},
     "output_type": "execute_result"
    }
   ],
   "source": [
    "spark"
   ]
  },
  {
   "cell_type": "code",
   "execution_count": 5,
   "metadata": {},
   "outputs": [
    {
     "name": "stderr",
     "output_type": "stream",
     "text": []
    }
   ],
   "source": [
    "caminho_df_test = 'data_test.csv'\n",
    "caminho_df_training = 'data_training.csv'\n",
    "\n",
    "df_test = spark.read.csv(caminho_df_test,header=True)\n",
    "df_training = spark.read.csv(caminho_df_training, header=True)"
   ]
  },
  {
   "cell_type": "code",
   "execution_count": 6,
   "metadata": {},
   "outputs": [],
   "source": [
    "label_stringIdx = StringIndexer(inputCol = \"topico\", outputCol = \"label\")\n",
    "tokenization = Tokenizer(inputCol=\"texto\", outputCol=\"palavras\")\n",
    "remover_stopword = StopWordsRemover(inputCol=\"palavras\", outputCol=\"palavras_filtradas\")\n",
    "hashingTF = HashingTF(inputCol=\"palavras_filtradas\", outputCol=\"tf_features\")\n",
    "idf = IDF(inputCol=\"tf_features\", outputCol=\"tf_idf_features\")"
   ]
  },
  {
   "cell_type": "markdown",
   "metadata": {},
   "source": [
    "# Naive Bays"
   ]
  },
  {
   "cell_type": "markdown",
   "metadata": {},
   "source": [
    "## nbModel"
   ]
  },
  {
   "cell_type": "code",
   "execution_count": 7,
   "metadata": {},
   "outputs": [
    {
     "name": "stderr",
     "output_type": "stream",
     "text": [
      "21/10/28 14:19:21 WARN DAGScheduler: Broadcasting large task binary with size 4.1 MiB\n",
      "21/10/28 14:19:25 WARN DAGScheduler: Broadcasting large task binary with size 4.0 MiB\n"
     ]
    }
   ],
   "source": [
    "nb = NaiveBayes(featuresCol='tf_idf_features', labelCol='label', smoothing=1)\n",
    "pipelineNB = Pipeline(stages=[label_stringIdx, tokenization, remover_stopword, hashingTF, idf, nb])\n",
    "\n",
    "nbModel = pipelineNB.fit(df_training) #treina o modelo nb_model"
   ]
  },
  {
   "cell_type": "markdown",
   "metadata": {},
   "source": [
    "## nbcvModel"
   ]
  },
  {
   "cell_type": "code",
   "execution_count": 11,
   "metadata": {},
   "outputs": [],
   "source": [
    "# Create ParamGrid for Cross Validation\n",
    "nbparamGrid = ParamGridBuilder() \\\n",
    "               .addGrid(nb.smoothing, [0.0, 0.2, 0.4]) \\\n",
    "               .build()"
   ]
  },
  {
   "cell_type": "code",
   "execution_count": 12,
   "metadata": {},
   "outputs": [],
   "source": [
    "# Create 5-fold CrossValidator\n",
    "nbcv = CrossValidator(estimator = pipelineNB,\n",
    "                      estimatorParamMaps = nbparamGrid,\n",
    "                      evaluator = MulticlassClassificationEvaluator(predictionCol=\"prediction\"),\n",
    "                      numFolds = 3)"
   ]
  },
  {
   "cell_type": "code",
   "execution_count": 13,
   "metadata": {},
   "outputs": [
    {
     "name": "stderr",
     "output_type": "stream",
     "text": [
      "21/10/28 14:23:18 WARN DAGScheduler: Broadcasting large task binary with size 4.1 MiB\n",
      "21/10/28 14:23:19 WARN DAGScheduler: Broadcasting large task binary with size 4.1 MiB\n",
      "21/10/28 14:23:26 WARN DAGScheduler: Broadcasting large task binary with size 22.1 MiB\n",
      "21/10/28 14:23:30 WARN DAGScheduler: Broadcasting large task binary with size 4.1 MiB\n",
      "21/10/28 14:23:30 WARN DAGScheduler: Broadcasting large task binary with size 4.1 MiB\n",
      "21/10/28 14:23:36 WARN DAGScheduler: Broadcasting large task binary with size 22.1 MiB\n",
      "21/10/28 14:23:39 WARN DAGScheduler: Broadcasting large task binary with size 4.1 MiB\n",
      "21/10/28 14:23:40 WARN DAGScheduler: Broadcasting large task binary with size 4.1 MiB\n",
      "21/10/28 14:23:45 WARN DAGScheduler: Broadcasting large task binary with size 22.1 MiB\n",
      "21/10/28 14:23:49 WARN DAGScheduler: Broadcasting large task binary with size 4.1 MiB\n",
      "21/10/28 14:23:50 WARN DAGScheduler: Broadcasting large task binary with size 4.1 MiB\n",
      "21/10/28 14:23:57 WARN DAGScheduler: Broadcasting large task binary with size 22.1 MiB\n",
      "21/10/28 14:24:00 WARN DAGScheduler: Broadcasting large task binary with size 4.1 MiB\n",
      "21/10/28 14:24:01 WARN DAGScheduler: Broadcasting large task binary with size 4.1 MiB\n",
      "21/10/28 14:24:06 WARN DAGScheduler: Broadcasting large task binary with size 22.1 MiB\n",
      "21/10/28 14:24:10 WARN DAGScheduler: Broadcasting large task binary with size 4.1 MiB\n",
      "21/10/28 14:24:10 WARN DAGScheduler: Broadcasting large task binary with size 4.1 MiB\n",
      "21/10/28 14:24:16 WARN DAGScheduler: Broadcasting large task binary with size 22.1 MiB\n",
      "21/10/28 14:24:19 WARN DAGScheduler: Broadcasting large task binary with size 4.1 MiB\n",
      "21/10/28 14:24:20 WARN DAGScheduler: Broadcasting large task binary with size 4.1 MiB\n",
      "21/10/28 14:24:25 WARN DAGScheduler: Broadcasting large task binary with size 22.1 MiB\n",
      "21/10/28 14:24:28 WARN DAGScheduler: Broadcasting large task binary with size 4.1 MiB\n",
      "21/10/28 14:24:29 WARN DAGScheduler: Broadcasting large task binary with size 4.1 MiB\n",
      "21/10/28 14:24:35 WARN DAGScheduler: Broadcasting large task binary with size 22.1 MiB\n",
      "21/10/28 14:24:38 WARN DAGScheduler: Broadcasting large task binary with size 4.1 MiB\n",
      "21/10/28 14:24:38 WARN DAGScheduler: Broadcasting large task binary with size 4.1 MiB\n",
      "21/10/28 14:24:43 WARN DAGScheduler: Broadcasting large task binary with size 22.1 MiB\n",
      "21/10/28 14:24:46 WARN DAGScheduler: Broadcasting large task binary with size 4.1 MiB\n",
      "21/10/28 14:24:47 WARN DAGScheduler: Broadcasting large task binary with size 4.0 MiB\n"
     ]
    }
   ],
   "source": [
    "nbcvModel = nbcv.fit(df_training)"
   ]
  },
  {
   "cell_type": "markdown",
   "metadata": {},
   "source": [
    "## nbModel com df_test"
   ]
  },
  {
   "cell_type": "code",
   "execution_count": 14,
   "metadata": {},
   "outputs": [],
   "source": [
    "df_test_nbModel = nbModel.transform(df_test)"
   ]
  },
  {
   "cell_type": "code",
   "execution_count": null,
   "metadata": {},
   "outputs": [],
   "source": [
    "#df_test_nbModel.show()"
   ]
  },
  {
   "cell_type": "code",
   "execution_count": null,
   "metadata": {},
   "outputs": [],
   "source": [
    "#df_test_nbModel.printSchema()"
   ]
  },
  {
   "cell_type": "markdown",
   "metadata": {},
   "source": [
    "## nbcvModel com df_test"
   ]
  },
  {
   "cell_type": "code",
   "execution_count": 16,
   "metadata": {},
   "outputs": [],
   "source": [
    "df_test_nbcvModel = nbcvModel.transform(df_test)"
   ]
  },
  {
   "cell_type": "markdown",
   "metadata": {},
   "source": [
    "## Evaluation"
   ]
  },
  {
   "cell_type": "code",
   "execution_count": 17,
   "metadata": {},
   "outputs": [
    {
     "name": "stderr",
     "output_type": "stream",
     "text": [
      "21/10/28 14:36:16 WARN DAGScheduler: Broadcasting large task binary with size 22.1 MiB\n",
      "21/10/28 14:36:19 WARN DAGScheduler: Broadcasting large task binary with size 22.1 MiB\n"
     ]
    }
   ],
   "source": [
    "df_test_nbModel = df_test_nbModel.select(['prediction', 'label'])\n",
    "rdd_pred_label_nbModel = df_test_nbModel.rdd \n",
    "metrics_nbModel = MulticlassMetrics(rdd_pred_label_nbModel)\n",
    "\n",
    "df_test_nbcvModel = df_test_nbcvModel.select(['prediction', 'label'])\n",
    "rdd_pred_label_nbcvModel = df_test_nbcvModel.rdd \n",
    "metrics_nbcvModel = MulticlassMetrics(rdd_pred_label_nbcvModel)"
   ]
  },
  {
   "cell_type": "code",
   "execution_count": 23,
   "metadata": {},
   "outputs": [
    {
     "name": "stderr",
     "output_type": "stream",
     "text": [
      "21/10/28 15:06:57 WARN DAGScheduler: Broadcasting large task binary with size 22.1 MiB\n"
     ]
    },
    {
     "name": "stdout",
     "output_type": "stream",
     "text": [
      "\n",
      "\tClass 0 precision = 0.6016949152542372\n",
      "\tClass 0 recall = 1.0\n",
      "\tClass 0 F1 Measure = 0.7513227513227513\n",
      "\n",
      "\tClass 1 precision = 0.7222222222222222\n",
      "\tClass 1 recall = 0.9285714285714286\n",
      "\tClass 1 F1 Measure = 0.8125000000000001\n",
      "\n",
      "\tClass 2 precision = 1.0\n",
      "\tClass 2 recall = 1.0\n",
      "\tClass 2 F1 Measure = 1.0\n",
      "\n",
      "\tClass 3 precision = 1.0\n",
      "\tClass 3 recall = 0.1\n",
      "\tClass 3 F1 Measure = 0.18181818181818182\n",
      "\n",
      "\tClass 4 precision = 0.0\n",
      "\tClass 4 recall = 0.0\n",
      "\tClass 4 F1 Measure = 0.0\n",
      "\n",
      "\tClass 5 precision = 1.0\n",
      "\tClass 5 recall = 0.15384615384615385\n",
      "\tClass 5 F1 Measure = 0.2666666666666667\n",
      "\n",
      "\tClass 6 precision = 1.0\n",
      "\tClass 6 recall = 0.5\n",
      "\tClass 6 F1 Measure = 0.6666666666666666\n",
      "\n",
      "\tClass 7 precision = 0.0\n",
      "\tClass 7 recall = 0.0\n",
      "\tClass 7 F1 Measure = 0.0\n",
      "\n",
      "\tClass 8 precision = 0.0\n",
      "\tClass 8 recall = 0.0\n",
      "\tClass 8 F1 Measure = 0.0\n",
      "\n",
      "\tmacroF1 = 0.4087749184971407\n",
      "\n",
      "\tAccuracy = 0.6779661016949152\n"
     ]
    }
   ],
   "source": [
    "vec_macroF1 = []\n",
    "qtdClasses = 0\n",
    "\n",
    "labels = rdd_pred_label_nbModel.map(lambda lp: lp.label).distinct().collect()\n",
    "for label in sorted(labels):\n",
    "    print(\"\\n\\tClass %d precision = %s\" % (label, metrics_nbModel.precision(label)))\n",
    "    print(\"\\tClass %d recall = %s\" % (label, metrics_nbModel.recall(label)))\n",
    "    print(\"\\tClass %d F1 Measure = %s\" % (label, metrics_nbModel.fMeasure(label, beta=1.0)))\n",
    "    vec_macroF1.append(metrics_nbModel.fMeasure(label, beta=1.0))\n",
    "    qtdClasses +=1\n",
    "\n",
    "macroF1 = (sum(vec_macroF1))/qtdClasses\n",
    "print(\"\\n\\tmacroF1 = %s\" % macroF1)\n",
    "\n",
    "print(\"\\n\\tAccuracy = %s\" % metrics_nbModel.accuracy)"
   ]
  },
  {
   "cell_type": "code",
   "execution_count": 24,
   "metadata": {},
   "outputs": [
    {
     "name": "stderr",
     "output_type": "stream",
     "text": [
      "21/10/28 15:07:27 WARN DAGScheduler: Broadcasting large task binary with size 22.1 MiB\n"
     ]
    },
    {
     "name": "stdout",
     "output_type": "stream",
     "text": [
      "\n",
      "\tClass 0 precision = 0.696969696969697\n",
      "\tClass 0 recall = 0.971830985915493\n",
      "\tClass 0 F1 Measure = 0.811764705882353\n",
      "\n",
      "\tClass 1 precision = 0.7\n",
      "\tClass 1 recall = 1.0\n",
      "\tClass 1 F1 Measure = 0.8235294117647058\n",
      "\n",
      "\tClass 2 precision = 1.0\n",
      "\tClass 2 recall = 1.0\n",
      "\tClass 2 F1 Measure = 1.0\n",
      "\n",
      "\tClass 3 precision = 1.0\n",
      "\tClass 3 recall = 0.1\n",
      "\tClass 3 F1 Measure = 0.18181818181818182\n",
      "\n",
      "\tClass 4 precision = 0.6\n",
      "\tClass 4 recall = 0.21428571428571427\n",
      "\tClass 4 F1 Measure = 0.3157894736842105\n",
      "\n",
      "\tClass 5 precision = 1.0\n",
      "\tClass 5 recall = 0.6923076923076923\n",
      "\tClass 5 F1 Measure = 0.8181818181818181\n",
      "\n",
      "\tClass 6 precision = 1.0\n",
      "\tClass 6 recall = 0.8\n",
      "\tClass 6 F1 Measure = 0.888888888888889\n",
      "\n",
      "\tClass 7 precision = 0.0\n",
      "\tClass 7 recall = 0.0\n",
      "\tClass 7 F1 Measure = 0.0\n",
      "\n",
      "\tClass 8 precision = 0.0\n",
      "\tClass 8 recall = 0.0\n",
      "\tClass 8 F1 Measure = 0.0\n",
      "\n",
      "\tmacroF1 = 0.537774720024462\n",
      "\n",
      "\tAccuracy = 0.6779661016949152\n"
     ]
    }
   ],
   "source": [
    "vec_macroF1 = []\n",
    "qtdClasses = 0\n",
    "\n",
    "labels = rdd_pred_label_nbcvModel.map(lambda lp: lp.label).distinct().collect()\n",
    "for label in sorted(labels):\n",
    "    print(\"\\n\\tClass %d precision = %s\" % (label, metrics_nbcvModel.precision(label)))\n",
    "    print(\"\\tClass %d recall = %s\" % (label, metrics_nbcvModel.recall(label)))\n",
    "    print(\"\\tClass %d F1 Measure = %s\" % (label, metrics_nbcvModel.fMeasure(label, beta=1.0)))\n",
    "    vec_macroF1.append(metrics_nbcvModel.fMeasure(label, beta=1.0))\n",
    "    qtdClasses +=1\n",
    "\n",
    "macroF1 = (sum(vec_macroF1))/qtdClasses\n",
    "print(\"\\n\\tmacroF1 = %s\" % macroF1)\n",
    "\n",
    "print(\"\\n\\tAccuracy = %s\" % metrics_nbModel.accuracy)   "
   ]
  },
  {
   "cell_type": "code",
   "execution_count": 20,
   "metadata": {},
   "outputs": [
    {
     "data": {
      "text/plain": [
       "[0.3236290375876557, 0.6513435678152694, 0.6511170994265941]"
      ]
     },
     "execution_count": 20,
     "metadata": {},
     "output_type": "execute_result"
    }
   ],
   "source": [
    "nbcvModel.avgMetrics #Não seio o que é essa métrica, pesquisar depois."
   ]
  },
  {
   "cell_type": "code",
   "execution_count": null,
   "metadata": {},
   "outputs": [],
   "source": []
  }
 ],
 "metadata": {
  "interpreter": {
   "hash": "2f907cd9e5acd71679984a0a8a82a3702c387a74b9b3fdd18bd9eaf613e7331a"
  },
  "kernelspec": {
   "display_name": "Python 3.9.7 64-bit ('ri': conda)",
   "name": "python3"
  },
  "language_info": {
   "codemirror_mode": {
    "name": "ipython",
    "version": 3
   },
   "file_extension": ".py",
   "mimetype": "text/x-python",
   "name": "python",
   "nbconvert_exporter": "python",
   "pygments_lexer": "ipython3",
   "version": "3.9.7"
  },
  "orig_nbformat": 4
 },
 "nbformat": 4,
 "nbformat_minor": 2
}
